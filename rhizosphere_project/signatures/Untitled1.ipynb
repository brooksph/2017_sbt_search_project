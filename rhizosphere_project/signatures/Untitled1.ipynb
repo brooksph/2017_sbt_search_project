{
 "cells": [
  {
   "cell_type": "code",
   "execution_count": null,
   "metadata": {
    "collapsed": true
   },
   "outputs": [],
   "source": [
    "%matplotlib inline"
   ]
  },
  {
   "cell_type": "code",
   "execution_count": null,
   "metadata": {
    "collapsed": true
   },
   "outputs": [],
   "source": [
    "import numpy\n",
    "import pylab\n",
    "import seaborn"
   ]
  },
  {
   "cell_type": "code",
   "execution_count": null,
   "metadata": {
    "collapsed": true
   },
   "outputs": [],
   "source": [
    "cd ~/dev/sourmash/sourmash_lib/"
   ]
  },
  {
   "cell_type": "code",
   "execution_count": null,
   "metadata": {
    "collapsed": true
   },
   "outputs": [],
   "source": [
    "import fig "
   ]
  },
  {
   "cell_type": "code",
   "execution_count": null,
   "metadata": {
    "collapsed": true
   },
   "outputs": [],
   "source": [
    "cd /Users/philliptbrooks/Dropbox/sourmash/2017_sbt_search_project/rhizosphere_project/signatures/"
   ]
  },
  {
   "cell_type": "code",
   "execution_count": null,
   "metadata": {
    "collapsed": true
   },
   "outputs": [],
   "source": [
    "%%bash\n",
    "for i in 100 500 1000 5000 10000 20000\n",
    "do\n",
    "~/dev/sourmash/sourmash compare -o rhizosphere_scaled${i}_k21 *${i}.sig\n",
    "done"
   ]
  },
  {
   "cell_type": "code",
   "execution_count": null,
   "metadata": {
    "collapsed": true
   },
   "outputs": [],
   "source": [
    "D, labels = fig.load_matrix_and_labels('rhizosphere_scaled100_k21')\n",
    "D = (D + D.T) / 0.1\n",
    "_ = fig.plot_composite_matrix(D, labels, vmin=0.0)\n",
    "numpy.min(D), numpy.max(D)\n",
    "\n",
    "D, labels = fig.load_matrix_and_labels('rhizosphere_scaled500_k21')\n",
    "D = (D + D.T) / 0.1\n",
    "_ = fig.plot_composite_matrix(D, labels, vmin=0.0)\n",
    "numpy.min(D), numpy.max(D)\n",
    "\n",
    "D, labels = fig.load_matrix_and_labels('rhizosphere_scaled1000_k21')\n",
    "D = (D + D.T) / 0.1\n",
    "_ = fig.plot_composite_matrix(D, labels, vmin=0.0)\n",
    "numpy.min(D), numpy.max(D)\n",
    "\n",
    "D, labels = fig.load_matrix_and_labels('rhizosphere_scaled5000_k21')\n",
    "D = (D + D.T) / 0.1\n",
    "_ = fig.plot_composite_matrix(D, labels, vmin=0.0)\n",
    "numpy.min(D), numpy.max(D)\n",
    "\n",
    "D, labels = fig.load_matrix_and_labels('rhizosphere_scaled10000_k21')\n",
    "D = (D + D.T) / 0.1\n",
    "_ = fig.plot_composite_matrix(D, labels, vmin=0.0)\n",
    "numpy.min(D), numpy.max(D)\n",
    "\n",
    "D, labels = fig.load_matrix_and_labels('rhizosphere_scaled20000_k21')\n",
    "D = (D + D.T) / 0.1\n",
    "_ = fig.plot_composite_matrix(D, labels, vmin=0.0)\n",
    "numpy.min(D), numpy.max(D)"
   ]
  },
  {
   "cell_type": "code",
   "execution_count": null,
   "metadata": {
    "collapsed": true
   },
   "outputs": [],
   "source": []
  }
 ],
 "metadata": {},
 "nbformat": 4,
 "nbformat_minor": 0
}
