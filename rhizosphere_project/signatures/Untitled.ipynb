{
 "cells": [
  {
   "cell_type": "code",
   "execution_count": 7,
   "metadata": {
    "collapsed": true
   },
   "outputs": [],
   "source": [
    "%matplotlib inline"
   ]
  },
  {
   "cell_type": "code",
   "execution_count": 8,
   "metadata": {
    "collapsed": true
   },
   "outputs": [],
   "source": [
    "import numpy\n",
    "import pylab\n",
    "import seaborn"
   ]
  },
  {
   "cell_type": "code",
   "execution_count": 9,
   "metadata": {
    "collapsed": false
   },
   "outputs": [
    {
     "name": "stdout",
     "output_type": "stream",
     "text": [
      "/Users/philliptbrooks/dev/sourmash/sourmash_lib\n"
     ]
    }
   ],
   "source": [
    "cd ~/dev/sourmash/sourmash_lib/"
   ]
  },
  {
   "cell_type": "code",
   "execution_count": 10,
   "metadata": {
    "collapsed": true
   },
   "outputs": [],
   "source": [
    "import fig "
   ]
  },
  {
   "cell_type": "code",
   "execution_count": 11,
   "metadata": {
    "collapsed": false
   },
   "outputs": [
    {
     "name": "stdout",
     "output_type": "stream",
     "text": [
      "/Users/philliptbrooks/Dropbox/sourmash/2017_sbt_search_project/rhizosphere_project/signatures\n"
     ]
    }
   ],
   "source": [
    "cd /Users/philliptbrooks/Dropbox/sourmash/2017_sbt_search_project/rhizosphere_project/signatures/"
   ]
  },
  {
   "cell_type": "code",
   "execution_count": 12,
   "metadata": {
    "collapsed": false
   },
   "outputs": [
    {
     "name": "stderr",
     "output_type": "stream",
     "text": [
      "Traceback (most recent call last):\n",
      "  File \"/Users/philliptbrooks/dev/sourmash/sourmash\", line 4, in <module>\n",
      "    from sourmash_lib.__main__ import main\n",
      "  File \"/Users/philliptbrooks/dev/sourmash/sourmash_lib/__init__.py\", line 8, in <module>\n",
      "    from ._minhash import (MinHash, get_minhash_default_seed, get_minhash_max_hash)\n",
      "ImportError: cannot import name 'get_minhash_default_seed'\n",
      "Traceback (most recent call last):\n",
      "  File \"/Users/philliptbrooks/dev/sourmash/sourmash\", line 4, in <module>\n",
      "    from sourmash_lib.__main__ import main\n",
      "  File \"/Users/philliptbrooks/dev/sourmash/sourmash_lib/__init__.py\", line 8, in <module>\n",
      "    from ._minhash import (MinHash, get_minhash_default_seed, get_minhash_max_hash)\n",
      "ImportError: cannot import name 'get_minhash_default_seed'\n",
      "Traceback (most recent call last):\n",
      "  File \"/Users/philliptbrooks/dev/sourmash/sourmash\", line 4, in <module>\n",
      "    from sourmash_lib.__main__ import main\n",
      "  File \"/Users/philliptbrooks/dev/sourmash/sourmash_lib/__init__.py\", line 8, in <module>\n",
      "    from ._minhash import (MinHash, get_minhash_default_seed, get_minhash_max_hash)\n",
      "ImportError: cannot import name 'get_minhash_default_seed'\n",
      "Traceback (most recent call last):\n",
      "  File \"/Users/philliptbrooks/dev/sourmash/sourmash\", line 4, in <module>\n",
      "    from sourmash_lib.__main__ import main\n",
      "  File \"/Users/philliptbrooks/dev/sourmash/sourmash_lib/__init__.py\", line 8, in <module>\n",
      "    from ._minhash import (MinHash, get_minhash_default_seed, get_minhash_max_hash)\n",
      "ImportError: cannot import name 'get_minhash_default_seed'\n",
      "Traceback (most recent call last):\n",
      "  File \"/Users/philliptbrooks/dev/sourmash/sourmash\", line 4, in <module>\n",
      "    from sourmash_lib.__main__ import main\n",
      "  File \"/Users/philliptbrooks/dev/sourmash/sourmash_lib/__init__.py\", line 8, in <module>\n",
      "    from ._minhash import (MinHash, get_minhash_default_seed, get_minhash_max_hash)\n",
      "ImportError: cannot import name 'get_minhash_default_seed'\n",
      "Traceback (most recent call last):\n",
      "  File \"/Users/philliptbrooks/dev/sourmash/sourmash\", line 4, in <module>\n",
      "    from sourmash_lib.__main__ import main\n",
      "  File \"/Users/philliptbrooks/dev/sourmash/sourmash_lib/__init__.py\", line 8, in <module>\n",
      "    from ._minhash import (MinHash, get_minhash_default_seed, get_minhash_max_hash)\n",
      "ImportError: cannot import name 'get_minhash_default_seed'\n"
     ]
    }
   ],
   "source": [
    "%%bash\n",
    "for i in 100 500 1000 5000 10000 20000\n",
    "do\n",
    "~/dev/sourmash/sourmash compare -o rhizosphere_scaled${i}_k21 *${i}.sig\n",
    "done"
   ]
  },
  {
   "cell_type": "code",
   "execution_count": null,
   "metadata": {
    "collapsed": true
   },
   "outputs": [],
   "source": []
  }
 ],
 "metadata": {
  "anaconda-cloud": {},
  "kernelspec": {
   "display_name": "Python [Root]",
   "language": "python",
   "name": "Python [Root]"
  },
  "language_info": {
   "codemirror_mode": {
    "name": "ipython",
    "version": 3
   },
   "file_extension": ".py",
   "mimetype": "text/x-python",
   "name": "python",
   "nbconvert_exporter": "python",
   "pygments_lexer": "ipython3",
   "version": "3.5.2"
  }
 },
 "nbformat": 4,
 "nbformat_minor": 0
}
