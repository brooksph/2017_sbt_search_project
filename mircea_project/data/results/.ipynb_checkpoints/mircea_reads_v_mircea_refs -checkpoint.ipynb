{
 "cells": [
  {
   "cell_type": "markdown",
   "metadata": {},
   "source": [
    "Calculating the interesection between the reads from [Shakya et al 2013](https://www.ncbi.nlm.nih.gov/pubmed/23387867) and a database containing only the 64 genomes that should be present.\n",
    "\n",
    "**Purpose**: To determine if sourmash sbt_gather can detect all of the organisms in the reads from a metagenome \n",
    "when searching against an index containing containing only the organisms that comprise that metagenome. "
   ]
  },
  {
   "cell_type": "code",
   "execution_count": 1,
   "metadata": {
    "collapsed": false
   },
   "outputs": [
    {
     "name": "stdout",
     "output_type": "stream",
     "text": [
      "      27 SRR606249.pe.qc.fq.gz.abundtrim.gz.sig.101.txt\r\n",
      "       4 SRR606249.pe.qc.fq.gz.abundtrim.gz.sig.11.txt\r\n",
      "       0 SRR606249.pe.qc.fq.gz.abundtrim.gz.sig.15.txt\r\n",
      "       0 SRR606249.pe.qc.fq.gz.abundtrim.gz.sig.201.txt\r\n",
      "      53 SRR606249.pe.qc.fq.gz.abundtrim.gz.sig.21.txt\r\n",
      "       0 SRR606249.pe.qc.fq.gz.abundtrim.gz.sig.301.txt\r\n",
      "      50 SRR606249.pe.qc.fq.gz.abundtrim.gz.sig.31.txt\r\n",
      "      49 SRR606249.pe.qc.fq.gz.abundtrim.gz.sig.41.txt\r\n",
      "      48 SRR606249.pe.qc.fq.gz.abundtrim.gz.sig.51.txt\r\n",
      "      49 SRR606249.pe.qc.fq.gz.abundtrim.gz.sig.61.txt\r\n",
      "      47 SRR606249.pe.qc.fq.gz.abundtrim.gz.sig.71.txt\r\n",
      "      44 SRR606249.pe.qc.fq.gz.abundtrim.gz.sig.81.txt\r\n",
      "      44 SRR606249.pe.qc.fq.gz.abundtrim.gz.sig.91.txt\r\n",
      "     415 total\r\n"
     ]
    }
   ],
   "source": [
    "!wc -l SRR606249.pe.qc.fq.gz.abundtrim.gz.sig.*.txt"
   ]
  },
  {
   "cell_type": "code",
   "execution_count": 2,
   "metadata": {
    "collapsed": false
   },
   "outputs": [
    {
     "name": "stdout",
     "output_type": "stream",
     "text": [
      "Composition:\r\n",
      "0.85 Acidobacterium_capsulatum_ATCC_51196\r\n",
      "0.63 Aciduliprofundum_boonei_T469\r\n",
      "0.03 Akkermansia_muciniphila_ATCC_BAA-835\r\n",
      "1.00 Archaeoglobus_fulgidus_DSM_4304\r\n",
      "0.01 Bordetella_bronchiseptica_strain_RB50\r\n",
      "0.04 Caldibescii_DSM_6725\r\n",
      "0.18 Caldisaccharolyticus_DSM_8903\r\n",
      "0.18 Chlorobiumlimicola_DSM_245\r\n",
      "0.15 Chlorobiumphaeobacteroides_DSM_266\r\n",
      "0.92 Chlorobiumphaeovibrioides_DSM_265\r\n",
      "0.39 Chlorobiumtepidum_TLS\r\n",
      "0.04 Chloroflexus_aurantiacus_J-10-fl\r\n",
      "0.03 Clostridium_thermocellum_ATCC_27405\r\n",
      "0.17 Desulfovibrio_piger_ATCC_29098\r\n",
      "0.01 Desulfovibrio_vulgaris_DP4\r\n",
      "0.22 Dictyoglomus_turgidum_DSM_6724\r\n",
      "0.05 Enterococcus_faecalis_V583\r\n",
      "0.88 Gemmatimonas_aurantiaca_T-27_DNA\r\n",
      "0.83 Geobacter_sulfurreducens_PCA\r\n",
      "0.02 Haloferax_volcanii_DS2\r\n",
      "0.97 Hydrogenobaculum_sp._Y04AAS1\r\n",
      "0.04 Leptothrix_cholodnii_SP-6\r\n",
      "0.68 Methanocaldococcus_jannaschii_DSM_2661\r\n",
      "0.41 Methanococcus_maripaludis_C5\r\n",
      "0.14 Methanococcus_maripaludis_strain_S2,_complete_sequence\r\n",
      "0.60 Methanopyrus_kandleri_AV19\r\n",
      "0.02 Methanosarcina_acetivorans_str._C2A\r\n",
      "0.95 Nanoarchaeum_equitans_Kin4-M\r\n",
      "1.00 Nitrosomonas_europaea_ATCC_19718\r\n",
      "0.05 Pelodictyon_phaeoclathratiforme_BU-1\r\n",
      "0.82 Persephonella_marina_EX-H1\r\n",
      "0.05 Porphyromonas_gingivalis_ATCC_33277_DNA\r\n",
      "0.98 Pyrobaculum_aerophilum_str._IM2\r\n",
      "0.42 Pyrobaculum_arsenaticum_DSM_13514\r\n",
      "0.85 Pyrobaculum_calidifontis_JCM_11548\r\n",
      "0.96 Pyrococcus_furiosus_DSM_3638\r\n",
      "0.99 Pyrococcus_horikoshii_OT3_DNA\r\n",
      "1.00 Rhodopirellula_baltica_SH_1_complete_genome\r\n",
      "0.02 Salinispora_arenicola_CNS-205\r\n",
      "0.01 Salinispora_tropica_CNB-440\r\n",
      "0.96 Sulfitobacter_NAS-14.1_scf_1099451320477_\r\n",
      "0.38 Sulfitobacter_sp._EE-36_scf_1099451318008_\r\n",
      "1.00 Sulfolobus_tokodaii\r\n",
      "0.52 SulfuriYO3AOP1\r\n",
      "0.06 Sulfurihydrogenibium_yellowstonense_SS-5\r\n",
      "0.02 Thermoanaerobacter_pseudethanolicus_ATCC_33223\r\n",
      "1.00 Thermotoga_neapolitana_DSM_4359\r\n",
      "0.92 Thermotoga_petrophila_RKU-1\r\n",
      "0.34 Thermotoga_sp._RQ2\r\n",
      "0.27 Thermus_thermophilus_HB27\r\n",
      "0.61 Treponema_denticola_ATCC_35405\r\n",
      "0.12 Wolinella_succinogenes_DSM_1740\r\n"
     ]
    }
   ],
   "source": [
    "!sort -k 2 SRR606249.pe.qc.fq.gz.abundtrim.gz.sig.21.txt | cat - "
   ]
  },
  {
   "cell_type": "markdown",
   "metadata": {},
   "source": [
    "### Organisms present present the the reads but not detected \n",
    "\n",
    "- Bacteroides thetaiotaomicron \n",
    "- Bacteroides vulgatus \n",
    "- Burkholderia xenovorans LB400\n",
    "- Deinococcus radiodurans R1\n",
    "- Fusobacterium nucleatum nucleatum \n",
    "- Herpetosiphon aurantiacus \n",
    "- Ignicoccus hospitalis \n",
    "- Nostoc sp. PCC 7120\n",
    "- Ruegeria pomeroyi \n",
    "- Shewanella baltica OS185\n",
    "- Shewanella baltica OS223\n",
    "- Thermus thermophilus HB8\n",
    "- Zymomonas mobilis \n",
    "\n",
    "### Organism found but not present in the reads (Genome fraction, organism)\n",
    "\n",
    "- 0.27 Thermus_thermophilus_HB27\n",
    "\n"
   ]
  },
  {
   "cell_type": "code",
   "execution_count": 3,
   "metadata": {
    "collapsed": false
   },
   "outputs": [
    {
     "name": "stdout",
     "output_type": "stream",
     "text": [
      "# running sourmash subcommand: compute\n",
      "setting num_hashes to 0 because --scaled is set\n",
      "computing signatures for files: reads_not_found/GCF_000009705.1_ASM970v1_genomic.fna, reads_not_found/GCF_000011065.1_ASM1106v1_genomic.fna, reads_not_found/GCF_000011965.2_ASM1196v2_genomic.fna, reads_not_found/GCF_000012825.1_ASM1282v1_genomic.fna, reads_not_found/GCF_000013645.1_ASM1364v1_genomic.fna, reads_not_found/GCF_000017325.1_ASM1732v1_genomic.fna, reads_not_found/GCF_000017945.1_ASM1794v1_genomic.fna, reads_not_found/GCF_000018565.1_ASM1856v1_genomic.fna, reads_not_found/GCF_000021665.1_ASM2166v1_genomic.fna, reads_not_found/GCF_000091545.1_ASM9154v1_genomic.fna, reads_not_found/GCF_000175255.2_ASM17525v2_genomic.fna, reads_not_found/GCF_000493815.1_FN_W1481_genomic.fna, reads_not_found/GCF_001638825.1_ASM163882v1_genomic.fna\n",
      "Computing signature for ksizes: [21]\n",
      "Computing only DNA (and not protein) signatures.\n",
      "Computing a total of 1 signatures.\n",
      "Computing signature for ksizes: [21]\n",
      "... reading sequences from reads_not_found/GCF_000009705.1_ASM970v1_genomic.fna\n",
      "calculated 1 signatures for 7 sequences in reads_not_found/GCF_000009705.1_ASM970v1_genomic.fna\n",
      "... reading sequences from reads_not_found/GCF_000011065.1_ASM1106v1_genomic.fna\n",
      "calculated 1 signatures for 2 sequences in reads_not_found/GCF_000011065.1_ASM1106v1_genomic.fna\n",
      "... reading sequences from reads_not_found/GCF_000011965.2_ASM1196v2_genomic.fna\n",
      "calculated 1 signatures for 2 sequences in reads_not_found/GCF_000011965.2_ASM1196v2_genomic.fna\n",
      "... reading sequences from reads_not_found/GCF_000012825.1_ASM1282v1_genomic.fna\n",
      "calculated 1 signatures for 1 sequences in reads_not_found/GCF_000012825.1_ASM1282v1_genomic.fna\n",
      "... reading sequences from reads_not_found/GCF_000013645.1_ASM1364v1_genomic.fna\n",
      "calculated 1 signatures for 3 sequences in reads_not_found/GCF_000013645.1_ASM1364v1_genomic.fna\n",
      "... reading sequences from reads_not_found/GCF_000017325.1_ASM1732v1_genomic.fna\n",
      "calculated 1 signatures for 2 sequences in reads_not_found/GCF_000017325.1_ASM1732v1_genomic.fna\n",
      "... reading sequences from reads_not_found/GCF_000017945.1_ASM1794v1_genomic.fna\n",
      "calculated 1 signatures for 1 sequences in reads_not_found/GCF_000017945.1_ASM1794v1_genomic.fna\n",
      "... reading sequences from reads_not_found/GCF_000018565.1_ASM1856v1_genomic.fna\n",
      "calculated 1 signatures for 3 sequences in reads_not_found/GCF_000018565.1_ASM1856v1_genomic.fna\n",
      "... reading sequences from reads_not_found/GCF_000021665.1_ASM2166v1_genomic.fna\n",
      "calculated 1 signatures for 4 sequences in reads_not_found/GCF_000021665.1_ASM2166v1_genomic.fna\n",
      "... reading sequences from reads_not_found/GCF_000091545.1_ASM9154v1_genomic.fna\n",
      "calculated 1 signatures for 3 sequences in reads_not_found/GCF_000091545.1_ASM9154v1_genomic.fna\n",
      "... reading sequences from reads_not_found/GCF_000175255.2_ASM17525v2_genomic.fna\n",
      "calculated 1 signatures for 7 sequences in reads_not_found/GCF_000175255.2_ASM17525v2_genomic.fna\n",
      "... reading sequences from reads_not_found/GCF_000493815.1_FN_W1481_genomic.fna\n",
      "calculated 1 signatures for 186 sequences in reads_not_found/GCF_000493815.1_FN_W1481_genomic.fna\n",
      "... reading sequences from reads_not_found/GCF_001638825.1_ASM163882v1_genomic.fna\n",
      "calculated 1 signatures for 4 sequences in reads_not_found/GCF_001638825.1_ASM163882v1_genomic.fna\n"
     ]
    }
   ],
   "source": [
    "!sourmash compute -k 21 --scaled 10000 reads_not_found/*genomic.fna -f --name-from-first "
   ]
  },
  {
   "cell_type": "code",
   "execution_count": 4,
   "metadata": {
    "collapsed": false
   },
   "outputs": [
    {
     "name": "stdout",
     "output_type": "stream",
     "text": [
      "# running sourmash subcommand: sbt_index\n",
      "loading 13 files into SBT\n",
      "loaded 13 sigs; saving SBT under \"present_not_found\"\n"
     ]
    }
   ],
   "source": [
    "!sourmash sbt_index -k 21 --dna present_not_found *genomic.fna.sig"
   ]
  },
  {
   "cell_type": "code",
   "execution_count": 5,
   "metadata": {
    "collapsed": false
   },
   "outputs": [
    {
     "name": "stdout",
     "output_type": "stream",
     "text": [
      "# running sourmash subcommand: sbt_gather\n",
      "loaded query: SRR606249.pe.qc.fq.gz... (k=21, DNA)\n",
      "query signature has max_hash: 1844674407370955\n",
      "found: 0.99 0.02 NC_007951.1 Burkholderia xenovorans LB400 chromosome 1, complete sequence\n",
      "found: 1.00 0.01 NC_003272.1 Nostoc sp. PCC 7120 DNA, complete genome\n",
      "found: 1.00 0.01 NC_009972.1 Herpetosiphon aurantiacus DSM 785, complete genome\n",
      "found: 1.00 0.01 NC_004663.1 Bacteroides thetaiotaomicron VPI-5482 chromosome, complete genome\n",
      "found: 1.00 0.01 NC_011663.1 Shewanella baltica OS223, complete genome\n",
      "found: 0.98 0.01 NC_009614.1 Bacteroides vulgatus ATCC 8482, complete genome\n",
      "found: 1.00 0.01 NC_003911.12 Ruegeria pomeroyi DSS-3, complete genome\n",
      "found: 0.98 0.01 NZ_CP015081.1 Deinococcus radiodurans R1 chromosome 1, complete sequence\n",
      "found: 1.00 0.00 NC_006461.1 Thermus thermophilus HB8 chromosome, complete genome\n",
      "found: 0.44 0.00 NC_009665.1 Shewanella baltica OS185, complete genome\n",
      "found: 0.75 0.00 NC_017262.1 Zymomonas mobilis subsp. mobilis ATCC 10988, complete genome\n",
      "found: 1.00 0.00 NC_009776.1 Ignicoccus hospitalis KIN4/I, complete genome\n",
      "found: 0.07 0.00 NZ_AXUR01000001.1 Fusobacterium nucleatum W1481 Contig1, whole genome shotgun sequence\n",
      "found 13, total fraction 0.000\n",
      "\n",
      "Composition:\n",
      "1.00 NC_009776.1 Ignicoccus hospitalis KIN4/I, complete genome\n",
      "1.00 NC_006461.1 Thermus thermophilus HB8 chromosome, complete genome\n",
      "1.00 NC_011663.1 Shewanella baltica OS223, complete genome\n",
      "1.00 NC_004663.1 Bacteroides thetaiotaomicron VPI-5482 chromosome, complete genome\n",
      "1.00 NC_009972.1 Herpetosiphon aurantiacus DSM 785, complete genome\n",
      "1.00 NC_003272.1 Nostoc sp. PCC 7120 DNA, complete genome\n",
      "1.00 NC_003911.12 Ruegeria pomeroyi DSS-3, complete genome\n",
      "0.99 NC_007951.1 Burkholderia xenovorans LB400 chromosome 1, complete sequence\n",
      "0.98 NC_009614.1 Bacteroides vulgatus ATCC 8482, complete genome\n",
      "0.98 NZ_CP015081.1 Deinococcus radiodurans R1 chromosome 1, complete sequence\n",
      "0.75 NC_017262.1 Zymomonas mobilis subsp. mobilis ATCC 10988, complete genome\n",
      "0.44 NC_009665.1 Shewanella baltica OS185, complete genome\n",
      "0.07 NZ_AXUR01000001.1 Fusobacterium nucleatum W1481 Contig1, whole genome shotgun sequence\n"
     ]
    }
   ],
   "source": [
    "!sourmash sbt_gather present_not_found ../signatures/SRR606249.pe.qc.fq.gz.abundtrim10000.sig -k 21 -o reads_present_but_not_found.txt"
   ]
  },
  {
   "cell_type": "code",
   "execution_count": 6,
   "metadata": {
    "collapsed": false
   },
   "outputs": [
    {
     "name": "stdout",
     "output_type": "stream",
     "text": [
      "Composition:\r\n",
      "1.00 NC_004663.1 Bacteroides thetaiotaomicron VPI-5482 chromosome, complete genome\r\n",
      "0.98 NC_009614.1 Bacteroides vulgatus ATCC 8482, complete genome\r\n",
      "0.99 NC_007951.1 Burkholderia xenovorans LB400 chromosome 1, complete sequence\r\n",
      "0.98 NZ_CP015081.1 Deinococcus radiodurans R1 chromosome 1, complete sequence\r\n",
      "0.07 NZ_AXUR01000001.1 Fusobacterium nucleatum W1481 Contig1, whole genome shotgun sequence\r\n",
      "1.00 NC_009972.1 Herpetosiphon aurantiacus DSM 785, complete genome\r\n",
      "1.00 NC_009776.1 Ignicoccus hospitalis KIN4/I, complete genome\r\n",
      "1.00 NC_003272.1 Nostoc sp. PCC 7120 DNA, complete genome\r\n",
      "1.00 NC_003911.12 Ruegeria pomeroyi DSS-3, complete genome\r\n",
      "0.44 NC_009665.1 Shewanella baltica OS185, complete genome\r\n",
      "1.00 NC_011663.1 Shewanella baltica OS223, complete genome\r\n",
      "1.00 NC_006461.1 Thermus thermophilus HB8 chromosome, complete genome\r\n",
      "0.75 NC_017262.1 Zymomonas mobilis subsp. mobilis ATCC 10988, complete genome\r\n"
     ]
    }
   ],
   "source": [
    "!sort -k 3 reads_present_but_not_found.txt | cat - "
   ]
  },
  {
   "cell_type": "code",
   "execution_count": 50,
   "metadata": {
    "collapsed": false
   },
   "outputs": [
    {
     "name": "stdout",
     "output_type": "stream",
     "text": [
      "# running sourmash subcommand: sbt_gather\n",
      "usage: sourmash [-h] [-k KSIZE] [--threshold THRESHOLD] [-o OUTPUT]\n",
      "                [--csv CSV] [--save-matches SAVE_MATCHES] [--protein]\n",
      "                [--no-protein] [--dna] [--no-dna]\n",
      "                sbt_name query\n",
      "sourmash: error: unrecognized arguments: ../signatures/GCF_000021645.1_ASM2164v1_genomic.fna.sig ../signatures/GCF_000021665.1_ASM2166v1_genomic.fna.gz.sig ../signatures/GCF_000021665.1_ASM2166v1_genomic.fna.sig ../signatures/Thermotoga_neapolitana_DSM_4359_21.sbt.json ../signatures/Thermotoga_petrophila_RKU-1_21.sbt.json ../signatures/Thermotoga_sp._RQ2_21.sbt.json ../signatures/SRR606249.pe.qc.fq.gz.abundtrim10000.sig\n"
     ]
    }
   ],
   "source": [
    "!sourmash sbt_gather -k 21 ../signatures/*21* ../signatures/SRR606249.pe.qc.fq.gz.abundtrim10000.sig --threshold=0.0001 -o mircea-reads_v_Thermotoga_neapolitana_DSM_4359_21.txt\n"
   ]
  },
  {
   "cell_type": "code",
   "execution_count": 59,
   "metadata": {
    "collapsed": false
   },
   "outputs": [
    {
     "name": "stdout",
     "output_type": "stream",
     "text": [
      "# running sourmash subcommand: sbt_gather\n",
      "loaded query: SRR606249.pe.qc.fq.gz... (k=21, DNA)\n",
      "query signature has max_hash: 1844674407370955\n",
      "found: 1.00 0.00 Thermotoga_neapolitana_DSM_4359.gz\n",
      "found 1, total fraction 0.000\n",
      "\n",
      "Composition:\n",
      "1.00 Thermotoga_neapolitana_DSM_4359.gz\n",
      "# running sourmash subcommand: sbt_gather\n",
      "loaded query: SRR606249.pe.qc.fq.gz... (k=21, DNA)\n",
      "query signature has max_hash: 1844674407370955\n",
      "found: 0.99 0.00 Thermotoga_petrophila_RKU-1.gz\n",
      "found 1, total fraction 0.000\n",
      "\n",
      "Composition:\n",
      "0.99 Thermotoga_petrophila_RKU-1.gz\n",
      "# running sourmash subcommand: sbt_gather\n",
      "loaded query: SRR606249.pe.qc.fq.gz... (k=21, DNA)\n",
      "query signature has max_hash: 1844674407370955\n",
      "found: 1.00 0.00 Thermotoga_sp._RQ2.gz\n",
      "found 1, total fraction 0.000\n",
      "\n",
      "Composition:\n",
      "1.00 Thermotoga_sp._RQ2.gz\n",
      "# running sourmash subcommand: sbt_gather\n",
      "loaded query: SRR606249.pe.qc.fq.gz... (k=21, DNA)\n",
      "query signature has max_hash: 1844674407370955\n",
      "found only 1 hashes in common.\n",
      "this is below a sane threshold => exiting.\n",
      "found 0, total fraction 0.000\n",
      "\n"
     ]
    }
   ],
   "source": [
    "!bash thermatoga_strain_var.sh"
   ]
  },
  {
   "cell_type": "code",
   "execution_count": null,
   "metadata": {
    "collapsed": true
   },
   "outputs": [],
   "source": []
  }
 ],
 "metadata": {
  "anaconda-cloud": {},
  "kernelspec": {
   "display_name": "Python [Root]",
   "language": "python",
   "name": "Python [Root]"
  },
  "language_info": {
   "codemirror_mode": {
    "name": "ipython",
    "version": 3
   },
   "file_extension": ".py",
   "mimetype": "text/x-python",
   "name": "python",
   "nbconvert_exporter": "python",
   "pygments_lexer": "ipython3",
   "version": "3.5.2"
  }
 },
 "nbformat": 4,
 "nbformat_minor": 0
}
