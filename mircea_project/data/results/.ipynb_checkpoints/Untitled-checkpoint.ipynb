{
 "cells": [
  {
   "cell_type": "code",
   "execution_count": 1,
   "metadata": {
    "collapsed": false
   },
   "outputs": [
    {
     "name": "stdout",
     "output_type": "stream",
     "text": [
      "      27 SRR606249.pe.qc.fq.gz.abundtrim.gz.sig.101.txt\r\n",
      "       4 SRR606249.pe.qc.fq.gz.abundtrim.gz.sig.11.txt\r\n",
      "       0 SRR606249.pe.qc.fq.gz.abundtrim.gz.sig.15.txt\r\n",
      "       0 SRR606249.pe.qc.fq.gz.abundtrim.gz.sig.201.txt\r\n",
      "      53 SRR606249.pe.qc.fq.gz.abundtrim.gz.sig.21.txt\r\n",
      "       0 SRR606249.pe.qc.fq.gz.abundtrim.gz.sig.301.txt\r\n",
      "      50 SRR606249.pe.qc.fq.gz.abundtrim.gz.sig.31.txt\r\n",
      "      49 SRR606249.pe.qc.fq.gz.abundtrim.gz.sig.41.txt\r\n",
      "      48 SRR606249.pe.qc.fq.gz.abundtrim.gz.sig.51.txt\r\n",
      "      49 SRR606249.pe.qc.fq.gz.abundtrim.gz.sig.61.txt\r\n",
      "      47 SRR606249.pe.qc.fq.gz.abundtrim.gz.sig.71.txt\r\n",
      "      44 SRR606249.pe.qc.fq.gz.abundtrim.gz.sig.81.txt\r\n",
      "      44 SRR606249.pe.qc.fq.gz.abundtrim.gz.sig.91.txt\r\n",
      "     415 total\r\n"
     ]
    }
   ],
   "source": [
    "!wc -l SRR606249.pe.qc.fq.gz.abundtrim.gz.sig.*.txt"
   ]
  },
  {
   "cell_type": "code",
   "execution_count": 6,
   "metadata": {
    "collapsed": false
   },
   "outputs": [
    {
     "name": "stdout",
     "output_type": "stream",
     "text": [
      "Composition:\r\n",
      "0.85 Acidobacterium_capsulatum_ATCC_51196\r\n",
      "0.63 Aciduliprofundum_boonei_T469\r\n",
      "0.03 Akkermansia_muciniphila_ATCC_BAA-835\r\n",
      "1.00 Archaeoglobus_fulgidus_DSM_4304\r\n",
      "0.01 Bordetella_bronchiseptica_strain_RB50\r\n",
      "0.04 Caldibescii_DSM_6725\r\n",
      "0.18 Caldisaccharolyticus_DSM_8903\r\n",
      "0.18 Chlorobiumlimicola_DSM_245\r\n",
      "0.15 Chlorobiumphaeobacteroides_DSM_266\r\n",
      "0.92 Chlorobiumphaeovibrioides_DSM_265\r\n",
      "0.39 Chlorobiumtepidum_TLS\r\n",
      "0.04 Chloroflexus_aurantiacus_J-10-fl\r\n",
      "0.03 Clostridium_thermocellum_ATCC_27405\r\n",
      "0.17 Desulfovibrio_piger_ATCC_29098\r\n",
      "0.01 Desulfovibrio_vulgaris_DP4\r\n",
      "0.22 Dictyoglomus_turgidum_DSM_6724\r\n",
      "0.05 Enterococcus_faecalis_V583\r\n",
      "0.88 Gemmatimonas_aurantiaca_T-27_DNA\r\n",
      "0.83 Geobacter_sulfurreducens_PCA\r\n",
      "0.02 Haloferax_volcanii_DS2\r\n",
      "0.97 Hydrogenobaculum_sp._Y04AAS1\r\n",
      "0.04 Leptothrix_cholodnii_SP-6\r\n",
      "0.68 Methanocaldococcus_jannaschii_DSM_2661\r\n",
      "0.41 Methanococcus_maripaludis_C5\r\n",
      "0.14 Methanococcus_maripaludis_strain_S2,_complete_sequence\r\n",
      "0.60 Methanopyrus_kandleri_AV19\r\n",
      "0.02 Methanosarcina_acetivorans_str._C2A\r\n",
      "0.95 Nanoarchaeum_equitans_Kin4-M\r\n",
      "1.00 Nitrosomonas_europaea_ATCC_19718\r\n",
      "0.05 Pelodictyon_phaeoclathratiforme_BU-1\r\n",
      "0.82 Persephonella_marina_EX-H1\r\n",
      "0.05 Porphyromonas_gingivalis_ATCC_33277_DNA\r\n",
      "0.98 Pyrobaculum_aerophilum_str._IM2\r\n",
      "0.42 Pyrobaculum_arsenaticum_DSM_13514\r\n",
      "0.85 Pyrobaculum_calidifontis_JCM_11548\r\n",
      "0.96 Pyrococcus_furiosus_DSM_3638\r\n",
      "0.99 Pyrococcus_horikoshii_OT3_DNA\r\n",
      "1.00 Rhodopirellula_baltica_SH_1_complete_genome\r\n",
      "0.02 Salinispora_arenicola_CNS-205\r\n",
      "0.01 Salinispora_tropica_CNB-440\r\n",
      "0.96 Sulfitobacter_NAS-14.1_scf_1099451320477_\r\n",
      "0.38 Sulfitobacter_sp._EE-36_scf_1099451318008_\r\n",
      "1.00 Sulfolobus_tokodaii\r\n",
      "0.52 SulfuriYO3AOP1\r\n",
      "0.06 Sulfurihydrogenibium_yellowstonense_SS-5\r\n",
      "0.02 Thermoanaerobacter_pseudethanolicus_ATCC_33223\r\n",
      "1.00 Thermotoga_neapolitana_DSM_4359\r\n",
      "0.92 Thermotoga_petrophila_RKU-1\r\n",
      "0.34 Thermotoga_sp._RQ2\r\n",
      "0.27 Thermus_thermophilus_HB27\r\n",
      "0.61 Treponema_denticola_ATCC_35405\r\n",
      "0.12 Wolinella_succinogenes_DSM_1740\r\n"
     ]
    }
   ],
   "source": [
    "!sort -k 2 SRR606249.pe.qc.fq.gz.abundtrim.gz.sig.21.txt | cat - "
   ]
  },
  {
   "cell_type": "markdown",
   "metadata": {},
   "source": [
    "### Organisms present present the the reads but not detected \n",
    "\n",
    "- Bacteroides thetaiotaomicron \n",
    "- Bacteroides vulgatus \n",
    "- Burkholderia xenovorans LB400\n",
    "- Deinococcus radiodurans R1\n",
    "- Fusobacterium nucleatum nucleatum \n",
    "- Herpetosiphon aurantiacus \n",
    "- Ignicoccus hospitalis \n",
    "- Nostoc sp. PCC 7120\n",
    "- Ruegeria pomeroyi \n",
    "- Shewanella baltica OS185\n",
    "- Shewanella baltica OS223\n",
    "- Thermus thermophilus HB8\n",
    "- Zymomonas mobilis \n",
    "\n",
    "### Organism found but not present in the reads (Genome fraction, organism)\n",
    "\n",
    "- 0.27 Thermus_thermophilus_HB27\n",
    "\n"
   ]
  },
  {
   "cell_type": "code",
   "execution_count": 29,
   "metadata": {
    "collapsed": false
   },
   "outputs": [
    {
     "name": "stdout",
     "output_type": "stream",
     "text": [
      "# running sourmash subcommand: compute\n",
      "setting num_hashes to 0 because --scaled is set\n",
      "computing signatures for files: reads_not_found/GCF_000009705.1_ASM970v1_genomic.fna.gz, reads_not_found/GCF_000011065.1_ASM1106v1_cds_from_genomic.fna.gz, reads_not_found/GCF_000011965.2_ASM1196v2_genomic.fna.gz, reads_not_found/GCF_000012825.1_ASM1282v1_genomic.fna.gz, reads_not_found/GCF_000013645.1_ASM1364v1_genomic.fna.gz, reads_not_found/GCF_000017325.1_ASM1732v1_genomic.fna.gz, reads_not_found/GCF_000017945.1_ASM1794v1_genomic.fna.gz, reads_not_found/GCF_000018565.1_ASM1856v1_genomic.fna.gz, reads_not_found/GCF_000021665.1_ASM2166v1_genomic.fna.gz, reads_not_found/GCF_000091545.1_ASM9154v1_genomic.fna.gz, reads_not_found/GCF_000175255.2_ASM17525v2_genomic.fna.gz, reads_not_found/GCF_000493815.1_FN_W1481_genomic.fna.gz, reads_not_found/GCF_001638825.1_ASM163882v1_genomic.fna.gz\n",
      "Computing signature for ksizes: [21]\n",
      "Computing only DNA (and not protein) signatures.\n",
      "Computing a total of 1 signatures.\n",
      "Computing signature for ksizes: [21]\n",
      "... reading sequences from reads_not_found/GCF_000009705.1_ASM970v1_genomic.fna.gz\n",
      "calculated 1 signatures for 7 sequences in reads_not_found/GCF_000009705.1_ASM970v1_genomic.fna.gz\n",
      "... reading sequences from reads_not_found/GCF_000011065.1_ASM1106v1_cds_from_genomic.fna.gz\n",
      "calculated 1 signatures for 4816 sequences in reads_not_found/GCF_000011065.1_ASM1106v1_cds_from_genomic.fna.gz\n",
      "... reading sequences from reads_not_found/GCF_000011965.2_ASM1196v2_genomic.fna.gz\n",
      "calculated 1 signatures for 2 sequences in reads_not_found/GCF_000011965.2_ASM1196v2_genomic.fna.gz\n",
      "... reading sequences from reads_not_found/GCF_000012825.1_ASM1282v1_genomic.fna.gz\n",
      "calculated 1 signatures for 1 sequences in reads_not_found/GCF_000012825.1_ASM1282v1_genomic.fna.gz\n",
      "... reading sequences from reads_not_found/GCF_000013645.1_ASM1364v1_genomic.fna.gz\n",
      "calculated 1 signatures for 3 sequences in reads_not_found/GCF_000013645.1_ASM1364v1_genomic.fna.gz\n",
      "... reading sequences from reads_not_found/GCF_000017325.1_ASM1732v1_genomic.fna.gz\n",
      "calculated 1 signatures for 2 sequences in reads_not_found/GCF_000017325.1_ASM1732v1_genomic.fna.gz\n",
      "... reading sequences from reads_not_found/GCF_000017945.1_ASM1794v1_genomic.fna.gz\n",
      "calculated 1 signatures for 1 sequences in reads_not_found/GCF_000017945.1_ASM1794v1_genomic.fna.gz\n",
      "... reading sequences from reads_not_found/GCF_000018565.1_ASM1856v1_genomic.fna.gz\n",
      "calculated 1 signatures for 3 sequences in reads_not_found/GCF_000018565.1_ASM1856v1_genomic.fna.gz\n",
      "... reading sequences from reads_not_found/GCF_000021665.1_ASM2166v1_genomic.fna.gz\n",
      "calculated 1 signatures for 4 sequences in reads_not_found/GCF_000021665.1_ASM2166v1_genomic.fna.gz\n",
      "... reading sequences from reads_not_found/GCF_000091545.1_ASM9154v1_genomic.fna.gz\n",
      "calculated 1 signatures for 3 sequences in reads_not_found/GCF_000091545.1_ASM9154v1_genomic.fna.gz\n",
      "... reading sequences from reads_not_found/GCF_000175255.2_ASM17525v2_genomic.fna.gz\n",
      "calculated 1 signatures for 7 sequences in reads_not_found/GCF_000175255.2_ASM17525v2_genomic.fna.gz\n",
      "... reading sequences from reads_not_found/GCF_000493815.1_FN_W1481_genomic.fna.gz\n",
      "calculated 1 signatures for 186 sequences in reads_not_found/GCF_000493815.1_FN_W1481_genomic.fna.gz\n",
      "... reading sequences from reads_not_found/GCF_001638825.1_ASM163882v1_genomic.fna.gz\n",
      "calculated 1 signatures for 4 sequences in reads_not_found/GCF_001638825.1_ASM163882v1_genomic.fna.gz\n"
     ]
    }
   ],
   "source": [
    "!sourmash compute -k 21 --scaled 10000 reads_not_found/*fna.gz --name-from-first -f"
   ]
  },
  {
   "cell_type": "code",
   "execution_count": 30,
   "metadata": {
    "collapsed": false
   },
   "outputs": [
    {
     "name": "stdout",
     "output_type": "stream",
     "text": [
      "# running sourmash subcommand: sbt_index\n",
      "loading 1 files into SBT\n",
      "loaded 1 sigs; saving SBT under \"reads_21\"\n"
     ]
    }
   ],
   "source": [
    "!sourmash sbt_index -k 21 --dna reads_21 ../signatures/SRR606249.pe.qc.fq.gz.abundtrim10000.sig"
   ]
  },
  {
   "cell_type": "code",
   "execution_count": 52,
   "metadata": {
    "collapsed": false
   },
   "outputs": [
    {
     "name": "stdout",
     "output_type": "stream",
     "text": [
      "# running sourmash subcommand: sbt_gather\n",
      "loaded query: SRR606249.pe.qc.fq.gz... (k=21, DNA)\n",
      "query signature has max_hash: 1844674407370955\n",
      "found: 0.94 0.09 NC_003272.1 Nostoc sp. PCC 7120 DNA, complete genome\n",
      "found 1, total fraction 0.000\n",
      "\n",
      "Composition:\n",
      "0.94 NC_003272.1 Nostoc sp. PCC 7120 DNA, complete genome\n"
     ]
    }
   ],
   "source": [
    "!sourmash sbt_gather reads_not_found/present_not_found.sbt.json ../signatures/SRR606249.pe.qc.fq.gz.abundtrim10000.sig -k 21"
   ]
  },
  {
   "cell_type": "code",
   "execution_count": 35,
   "metadata": {
    "collapsed": false
   },
   "outputs": [
    {
     "name": "stdout",
     "output_type": "stream",
     "text": [
      "GCF_000009705.1_ASM970v1_genomic.fna.gz.sig\r\n",
      "GCF_000011065.1_ASM1106v1_cds_from_genomic.fna.gz.sig\r\n",
      "GCF_000011965.2_ASM1196v2_genomic.fna.gz.sig\r\n",
      "GCF_000012825.1_ASM1282v1_genomic.fna.gz.sig\r\n",
      "GCF_000013645.1_ASM1364v1_genomic.fna.gz.sig\r\n",
      "GCF_000016785.1_ASM1678v1_genomic.fna.gz.sig.101.txt\r\n",
      "GCF_000016785.1_ASM1678v1_genomic.fna.gz.sig.11.txt\r\n",
      "GCF_000016785.1_ASM1678v1_genomic.fna.gz.sig.201.txt\r\n",
      "GCF_000016785.1_ASM1678v1_genomic.fna.gz.sig.21.txt\r\n",
      "GCF_000016785.1_ASM1678v1_genomic.fna.gz.sig.301.txt\r\n",
      "GCF_000016785.1_ASM1678v1_genomic.fna.gz.sig.31.txt\r\n",
      "GCF_000016785.1_ASM1678v1_genomic.fna.gz.sig.41.txt\r\n",
      "GCF_000016785.1_ASM1678v1_genomic.fna.gz.sig.51.txt\r\n",
      "GCF_000016785.1_ASM1678v1_genomic.fna.gz.sig.61.txt\r\n",
      "GCF_000016785.1_ASM1678v1_genomic.fna.gz.sig.71.txt\r\n",
      "GCF_000016785.1_ASM1678v1_genomic.fna.gz.sig.81.txt\r\n",
      "GCF_000016785.1_ASM1678v1_genomic.fna.gz.sig.91.txt\r\n",
      "GCF_000017325.1_ASM1732v1_genomic.fna.gz.sig\r\n",
      "GCF_000017945.1_ASM1794v1_genomic.fna.gz.sig\r\n",
      "GCF_000018565.1_ASM1856v1_genomic.fna.gz.sig\r\n",
      "GCF_000019085.1_ASM1908v1_genomic.fna.gz\r\n",
      "GCF_000021665.1_ASM2166v1_genomic.fna.gz.sig\r\n",
      "GCF_000091545.1_ASM9154v1_genomic.fna.gz.sig\r\n",
      "GCF_000175255.2_ASM17525v2_genomic.fna.gz.sig\r\n",
      "GCF_000493815.1_FN_W1481_genomic.fna.gz.sig\r\n",
      "GCF_001638825.1_ASM163882v1_genomic.fna.gz.sig\r\n",
      "SRR606249.pe.qc.fq.gz.abundtrim.gz.sig.101.txt\r\n",
      "SRR606249.pe.qc.fq.gz.abundtrim.gz.sig.11.txt\r\n",
      "SRR606249.pe.qc.fq.gz.abundtrim.gz.sig.15.txt\r\n",
      "SRR606249.pe.qc.fq.gz.abundtrim.gz.sig.201.txt\r\n",
      "SRR606249.pe.qc.fq.gz.abundtrim.gz.sig.21.txt\r\n",
      "SRR606249.pe.qc.fq.gz.abundtrim.gz.sig.301.txt\r\n",
      "SRR606249.pe.qc.fq.gz.abundtrim.gz.sig.31.txt\r\n",
      "SRR606249.pe.qc.fq.gz.abundtrim.gz.sig.41.txt\r\n",
      "SRR606249.pe.qc.fq.gz.abundtrim.gz.sig.51.txt\r\n",
      "SRR606249.pe.qc.fq.gz.abundtrim.gz.sig.61.txt\r\n",
      "SRR606249.pe.qc.fq.gz.abundtrim.gz.sig.71.txt\r\n",
      "SRR606249.pe.qc.fq.gz.abundtrim.gz.sig.81.txt\r\n",
      "SRR606249.pe.qc.fq.gz.abundtrim.gz.sig.91.txt\r\n",
      "Untitled.ipynb\r\n",
      "found_but_not_present_k31.sh\r\n",
      "found_but_not_present_k51.sh\r\n",
      "microbes.2.k15.txt\r\n",
      "microbes.2.k31.txt\r\n",
      "microbes.2.k51.txt\r\n",
      "mircea-reads_v_microbes.txt\r\n",
      "mircea-reads_v_microbes_sort.txt\r\n",
      "mircea.fa.sig.k.101.txt\r\n",
      "mircea.fa.sig.k.11.txt\r\n",
      "mircea.fa.sig.k.201.txt\r\n",
      "mircea.fa.sig.k.21.txt\r\n",
      "mircea.fa.sig.k.301.txt\r\n",
      "mircea.fa.sig.k.31.txt\r\n",
      "mircea.fa.sig.k.41.txt\r\n",
      "mircea.fa.sig.k.51.txt\r\n",
      "mircea.fa.sig.k.61.txt\r\n",
      "mircea.fa.sig.k.71.txt\r\n",
      "mircea.fa.sig.k.81.txt\r\n",
      "mircea.fa.sig.k.91.txt\r\n",
      "mircea_31.sbt.json\r\n",
      "mircea_51.sbt.json\r\n",
      "mircea_new_sbt_search_k21.txt\r\n",
      "mircea_new_sbt_search_k31.txt\r\n",
      "mircea_new_sbt_search_k41.txt\r\n",
      "mircea_new_sbt_search_k51.txt\r\n",
      "mircea_refs.ipynb\r\n",
      "mircea_sbt_search_k21.txt\r\n",
      "mircea_v_microbes.txt\r\n",
      "mircea_v_microbes_sort.txt\r\n",
      "mircea_v_refseq.ipynb\r\n",
      "present_but_not_found_k31.sh\r\n",
      "present_but_not_found_k51.sh\r\n",
      "reads_21.sbt.json\r\n",
      "\u001b[1m\u001b[34mreads_not_found\u001b[m\u001b[m/\r\n"
     ]
    }
   ],
   "source": []
  },
  {
   "cell_type": "code",
   "execution_count": null,
   "metadata": {
    "collapsed": true
   },
   "outputs": [],
   "source": []
  }
 ],
 "metadata": {
  "anaconda-cloud": {},
  "kernelspec": {
   "display_name": "Python [Root]",
   "language": "python",
   "name": "Python [Root]"
  },
  "language_info": {
   "codemirror_mode": {
    "name": "ipython",
    "version": 3
   },
   "file_extension": ".py",
   "mimetype": "text/x-python",
   "name": "python",
   "nbconvert_exporter": "python",
   "pygments_lexer": "ipython3",
   "version": "3.5.2"
  }
 },
 "nbformat": 4,
 "nbformat_minor": 0
}
