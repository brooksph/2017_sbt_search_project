{
 "cells": [
  {
   "cell_type": "code",
   "execution_count": 17,
   "metadata": {
    "collapsed": false
   },
   "outputs": [
    {
     "name": "stdout",
     "output_type": "stream",
     "text": [
      "calculated 1 signatures for 1 sequences in GCF_000008185.1_ASM818v1_genomic.fna.gz\n",
      "calculated 1 signatures for 228 sequences in GCF_000173615.1_ASM17361v1_genomic.fna.gz\n",
      "calculated 1 signatures for 1 sequences in GCF_000196135.1_ASM19613v1_genomic.fna.gz\n"
     ]
    },
    {
     "name": "stderr",
     "output_type": "stream",
     "text": [
      "# running sourmash subcommand: compute\n",
      "computing signatures for files: GCF_000008185.1_ASM818v1_genomic.fna.gz\n",
      "Computing signature for ksizes: [21]\n",
      "Computing only DNA (and not protein) signatures.\n",
      "Computing a total of 1 signatures.\n",
      "Computing signature for ksizes: [21]\n",
      "Calculating k-mer cardinality of input sequences.\n",
      "... reading sequences from GCF_000008185.1_ASM818v1_genomic.fna.gz\n",
      "# running sourmash subcommand: compute\n",
      "computing signatures for files: GCF_000173615.1_ASM17361v1_genomic.fna.gz\n",
      "Computing signature for ksizes: [21]\n",
      "Computing only DNA (and not protein) signatures.\n",
      "Computing a total of 1 signatures.\n",
      "Computing signature for ksizes: [21]\n",
      "Calculating k-mer cardinality of input sequences.\n",
      "... reading sequences from GCF_000173615.1_ASM17361v1_genomic.fna.gz\n",
      "# running sourmash subcommand: compute\n",
      "computing signatures for files: GCF_000196135.1_ASM19613v1_genomic.fna.gz\n",
      "Computing signature for ksizes: [21]\n",
      "Computing only DNA (and not protein) signatures.\n",
      "Computing a total of 1 signatures.\n",
      "Computing signature for ksizes: [21]\n",
      "Calculating k-mer cardinality of input sequences.\n",
      "... reading sequences from GCF_000196135.1_ASM19613v1_genomic.fna.gz\n"
     ]
    }
   ],
   "source": [
    "%%bash \n",
    "for i in $(cat genomes.txt)\n",
    "do\n",
    "    ~/dev/sourmash/sourmash compute -k21 ${i} --with-cardinality -f -o ${i}.w.cardinality.sig\n",
    "done"
   ]
  },
  {
   "cell_type": "code",
   "execution_count": 18,
   "metadata": {
    "collapsed": false
   },
   "outputs": [
    {
     "name": "stdout",
     "output_type": "stream",
     "text": [
      "# running sourmash subcommand: sbt_index\n",
      "loading 3 files into SBT\n",
      "loaded 3 sigs; saving SBT under \"test\"\n"
     ]
    }
   ],
   "source": [
    "!~/dev/sourmash/sourmash sbt_index test *w.cardinality.sig "
   ]
  },
  {
   "cell_type": "code",
   "execution_count": 19,
   "metadata": {
    "collapsed": false
   },
   "outputs": [
    {
     "name": "stdout",
     "output_type": "stream",
     "text": [
      "# running sourmash subcommand: sbt_search\n",
      "loaded query: GCF_000008185.1_ASM818v1_genom... (k=21, DNA)\n",
      "1.00 GCF_000008185.1_ASM818v1_genomic.fna.gz\n"
     ]
    }
   ],
   "source": [
    "!~/dev/sourmash/sourmash sbt_search test.sbt.json GCF_000008185.1_ASM818v1_genomic.fna.gz.w.cardinality.sig -k21 "
   ]
  },
  {
   "cell_type": "code",
   "execution_count": 20,
   "metadata": {
    "collapsed": false
   },
   "outputs": [
    {
     "name": "stdout",
     "output_type": "stream",
     "text": [
      "# running sourmash subcommand: sbt_gather\n",
      "loaded query: GCF_000008185.1_ASM818v1_genom... (k=21, DNA)\n",
      "query signature needs to be created with --scaled\n",
      "or using --with-cardinality.\n"
     ]
    }
   ],
   "source": [
    "!~/dev/sourmash/sourmash sbt_gather test.sbt.json GCF_000008185.1_ASM818v1_genomic.fna.gz.w.cardinality.sig -k21 "
   ]
  },
  {
   "cell_type": "code",
   "execution_count": 21,
   "metadata": {
    "collapsed": false
   },
   "outputs": [
    {
     "name": "stdout",
     "output_type": "stream",
     "text": [
      "calculated 1 signatures for 1 sequences in GCF_000008185.1_ASM818v1_genomic.fna.gz\n",
      "calculated 1 signatures for 228 sequences in GCF_000173615.1_ASM17361v1_genomic.fna.gz\n",
      "calculated 1 signatures for 1 sequences in GCF_000196135.1_ASM19613v1_genomic.fna.gz\n"
     ]
    },
    {
     "name": "stderr",
     "output_type": "stream",
     "text": [
      "# running sourmash subcommand: compute\n",
      "setting num_hashes to 0 because --scaled is set\n",
      "computing signatures for files: GCF_000008185.1_ASM818v1_genomic.fna.gz\n",
      "Computing signature for ksizes: [21]\n",
      "Computing only DNA (and not protein) signatures.\n",
      "Computing a total of 1 signatures.\n",
      "Computing signature for ksizes: [21]\n",
      "... reading sequences from GCF_000008185.1_ASM818v1_genomic.fna.gz\n",
      "# running sourmash subcommand: compute\n",
      "setting num_hashes to 0 because --scaled is set\n",
      "computing signatures for files: GCF_000173615.1_ASM17361v1_genomic.fna.gz\n",
      "Computing signature for ksizes: [21]\n",
      "Computing only DNA (and not protein) signatures.\n",
      "Computing a total of 1 signatures.\n",
      "Computing signature for ksizes: [21]\n",
      "... reading sequences from GCF_000173615.1_ASM17361v1_genomic.fna.gz\n",
      "# running sourmash subcommand: compute\n",
      "setting num_hashes to 0 because --scaled is set\n",
      "computing signatures for files: GCF_000196135.1_ASM19613v1_genomic.fna.gz\n",
      "Computing signature for ksizes: [21]\n",
      "Computing only DNA (and not protein) signatures.\n",
      "Computing a total of 1 signatures.\n",
      "Computing signature for ksizes: [21]\n",
      "... reading sequences from GCF_000196135.1_ASM19613v1_genomic.fna.gz\n"
     ]
    }
   ],
   "source": [
    "%%bash \n",
    "for i in $(cat genomes.txt)\n",
    "do\n",
    "    ~/dev/sourmash/sourmash compute -k21 ${i} --scaled 10000 -f -o ${i}.scaled.sig\n",
    "done"
   ]
  },
  {
   "cell_type": "code",
   "execution_count": 22,
   "metadata": {
    "collapsed": false
   },
   "outputs": [
    {
     "name": "stdout",
     "output_type": "stream",
     "text": [
      "# running sourmash subcommand: sbt_search\n",
      "loaded query: GCF_000008185.1_ASM818v1_genom... (k=21, DNA)\n",
      "Traceback (most recent call last):\n",
      "  File \"/Users/philliptbrooks/dev/sourmash/sourmash\", line 5, in <module>\n",
      "    main()\n",
      "  File \"/Users/philliptbrooks/dev/sourmash/sourmash_lib/__main__.py\", line 56, in main\n",
      "    cmd(sys.argv[2:])\n",
      "  File \"/Users/philliptbrooks/dev/sourmash/sourmash_lib/commands.py\", line 572, in sbt_search\n",
      "    for leaf in tree.find(search_fn, query, args.threshold):\n",
      "  File \"/Users/philliptbrooks/dev/sourmash/sourmash_lib/sbt.py\", line 155, in find\n",
      "    if search_fn(node_g, *args):\n",
      "  File \"/Users/philliptbrooks/dev/sourmash/sourmash_lib/sbtmh.py\", line 37, in search_minhashes\n",
      "    matches = node.data.estimator.count_common(sig.estimator)\n",
      "  File \"/Users/philliptbrooks/dev/sourmash/sourmash_lib/__init__.py\", line 179, in count_common\n",
      "    return self.mh.count_common(other.mh)\n",
      "  File \"sourmash_lib/_minhash.pyx\", line 100, in sourmash_lib._minhash.MinHash.count_common (sourmash_lib/_minhash.cpp:2698)\n",
      "ValueError: mismatch in max_hash; comparison fail\n"
     ]
    }
   ],
   "source": [
    "!~/dev/sourmash/sourmash sbt_search test.sbt.json GCF_000008185.1_ASM818v1_genomic.fna.gz.scaled.sig -k21"
   ]
  },
  {
   "cell_type": "code",
   "execution_count": 23,
   "metadata": {
    "collapsed": false
   },
   "outputs": [
    {
     "name": "stdout",
     "output_type": "stream",
     "text": [
      "# running sourmash subcommand: sbt_gather\n",
      "loaded query: GCF_000008185.1_ASM818v1_genom... (k=21, DNA)\n",
      "query signature has max_hash: 1844674407370955\n",
      "found: 1.00 1.00 GCF_000008185.1_ASM818v1_genomic.fna.gz\n",
      "found 1, total fraction 0.000\n",
      "\n",
      "Composition:\n",
      "1.00 GCF_000008185.1_ASM818v1_genomic.fna.gz\n"
     ]
    }
   ],
   "source": [
    "!~/dev/sourmash/sourmash sbt_gather test.sbt.json GCF_000008185.1_ASM818v1_genomic.fna.gz.scaled.sig -k21 "
   ]
  },
  {
   "cell_type": "code",
   "execution_count": null,
   "metadata": {
    "collapsed": true
   },
   "outputs": [],
   "source": []
  }
 ],
 "metadata": {
  "anaconda-cloud": {},
  "kernelspec": {
   "display_name": "Python [Root]",
   "language": "python",
   "name": "Python [Root]"
  },
  "language_info": {
   "codemirror_mode": {
    "name": "ipython",
    "version": 3
   },
   "file_extension": ".py",
   "mimetype": "text/x-python",
   "name": "python",
   "nbconvert_exporter": "python",
   "pygments_lexer": "ipython3",
   "version": "3.5.2"
  }
 },
 "nbformat": 4,
 "nbformat_minor": 0
}
